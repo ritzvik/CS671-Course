{
 "cells": [
  {
   "cell_type": "code",
   "execution_count": 1,
   "metadata": {},
   "outputs": [],
   "source": [
    "import numpy as np\n",
    "import cv2\n",
    "import os\n",
    "from PIL import Image\n"
   ]
  },
  {
   "cell_type": "code",
   "execution_count": 2,
   "metadata": {},
   "outputs": [],
   "source": [
    "\n",
    "def create_img(originx, originy, angle, len, color, thick):\n",
    "    nimg = np.zeros([28,28,3],dtype=np.uint8)\n",
    "    if len == 0:\n",
    "        len = 7\n",
    "    else:\n",
    "        len = 15\n",
    "    for i in range(0, len+1):\n",
    "        x =  (originx + int(round(i*np.cos(angle))))\n",
    "        y =  (originy - int(round(i*np.sin(angle))))\n",
    "        if x < 0 or x >27 or y<0 or y>27:\n",
    "            return 0, nimg\n",
    "\n",
    "        if thick ==0:\n",
    "            nimg[y][x][color] = 255\n",
    "\n",
    "        elif angle == np.pi/2 and x > 1 and x < 26 :\n",
    "            nimg[y][(x-1)][color] = 255\n",
    "            nimg[y][x][color] = 255\n",
    "            nimg[y][(x+1)][color] = 255\n",
    "\n",
    "        elif angle != np.pi/2 and y > 1 and y < 26 :\n",
    "            nimg[(y-1)][x][color] = 255\n",
    "            nimg[y][x][color] = 255\n",
    "            nimg[(y+1)][x][color] = 255\n",
    "\n",
    "        else:\n",
    "            return 0, nimg\n",
    "\n",
    "\n",
    "    return 1, nimg\n"
   ]
  },
  {
   "cell_type": "code",
   "execution_count": 3,
   "metadata": {},
   "outputs": [],
   "source": [
    "\n",
    "imlst = []\n",
    "imhlst = []\n",
    "ct = 0\n",
    "\n",
    "try:\n",
    "    os.mkdir(\"./video\")\n",
    "    os.mkdir(\"./images\")\n",
    "except:\n",
    "  print(\"Directory already exists!\")\n",
    "  \n",
    "    \n",
    "out = cv2.VideoWriter('./video/video.avi',cv2.VideoWriter_fourcc(*'DIVX'), 2, (28*3,28*3))\n",
    "new_im = Image.new('RGB', (28*3, 28*3))\n"
   ]
  },
  {
   "cell_type": "code",
   "execution_count": 4,
   "metadata": {},
   "outputs": [],
   "source": [
    "imgh = np.zeros([28,28*3,3])\n",
    "\n",
    "def build_video(img):\n",
    "    X = ct%9\n",
    "    Y = ct%3\n",
    "    global imlst\n",
    "    global imgh\n",
    "    global imhlst\n",
    "    global out\n",
    "    imlst.append(img)\n",
    "    if(Y == 2):\n",
    "        imgh = np.hstack(i for i in imlst )\n",
    "        imhlst.append(np.zeros([28,28*3,3])+imgh)\n",
    "        imlst  = []\n",
    "\n",
    "        if X == 8:\n",
    "            imgv = np.vstack( i for i in imhlst )\n",
    "            imhlst = []\n",
    "                \n",
    "            cv2.imwrite('video/' + '1' + '.jpg', imgv)\n",
    "            image = cv2.imread('video/' + '1' + '.jpg')\n",
    "            out.write(image)\n",
    "            \n",
    "     \n",
    "\n"
   ]
  },
  {
   "cell_type": "code",
   "execution_count": 5,
   "metadata": {},
   "outputs": [
    {
     "name": "stderr",
     "output_type": "stream",
     "text": [
      "/home/hrishi/anaconda3/envs/tf_gpu/lib/python3.6/site-packages/ipykernel_launcher.py:12: FutureWarning: arrays to stack must be passed as a \"sequence\" type such as list or tuple. Support for non-sequence iterables such as generators is deprecated as of NumPy 1.16 and will raise an error in the future.\n",
      "  if sys.path[0] == '':\n",
      "/home/hrishi/anaconda3/envs/tf_gpu/lib/python3.6/site-packages/ipykernel_launcher.py:17: FutureWarning: arrays to stack must be passed as a \"sequence\" type such as list or tuple. Support for non-sequence iterables such as generators is deprecated as of NumPy 1.16 and will raise an error in the future.\n"
     ]
    }
   ],
   "source": [
    "\n",
    "\n",
    "\n",
    "for l in range(0,2): #len\n",
    "    for t in range(0,2): #thick\n",
    "        for a in range(0,12): #angle\n",
    "            for c in range(0,3,2): #color\n",
    "                try:\n",
    "                    os.mkdir('./images/'+str(l)+'_' + str(t) + '_' + str(a) + '_' + str(int(c/2)))\n",
    "                except:\n",
    "                    print('./images/'+str(l)+'_' + str(t) + '_' + str(a) + '_' + str(int(c/2))+\" already exists!\")\n",
    "                count = 1000\n",
    "                while count > 0:\n",
    "                    for r in range(0,28):\n",
    "                        if count <= 0:\n",
    "                            break\n",
    "                        for d in range(0,28):\n",
    "                            flag, img = create_img(d,r,(15*a)*np.pi/180, l,c, t)\n",
    "                            if flag == 0:\n",
    "                                continue\n",
    "                            if count <=0:\n",
    "                                break\n",
    "                            \n",
    "                            strn = str(l)+'_' + str(t) + '_' + str(a) + '_' + str(int(c/2)) + '_' + str(1001-count)\n",
    "                            count-=1\n",
    "                            \n",
    "                            im = Image.fromarray(img)\n",
    "                            im.save('images/'+str(l)+'_' + str(t) + '_' + str(a) + '_' + str(int(c/2)) +'/' + strn + '.jpg', quality = 100000)\n",
    "                            # im.show()\n",
    "                            if count >= 910:\n",
    "                                build_video(img)\n",
    "                                ct+=1\n"
   ]
  },
  {
   "cell_type": "code",
   "execution_count": 6,
   "metadata": {},
   "outputs": [],
   "source": [
    "os.remove(\"./video/1.jpg\")\n",
    "out.release()"
   ]
  },
  {
   "cell_type": "code",
   "execution_count": 7,
   "metadata": {},
   "outputs": [],
   "source": []
  }
 ],
 "metadata": {
  "file_extension": ".py",
  "kernelspec": {
   "display_name": "Python 3",
   "language": "python",
   "name": "python3"
  },
  "language_info": {
   "codemirror_mode": {
    "name": "ipython",
    "version": 3
   },
   "file_extension": ".py",
   "mimetype": "text/x-python",
   "name": "python",
   "nbconvert_exporter": "python",
   "pygments_lexer": "ipython3",
   "version": "3.7.1"
  },
  "mimetype": "text/x-python",
  "name": "python",
  "npconvert_exporter": "python",
  "pygments_lexer": "ipython3",
  "version": 3
 },
 "nbformat": 4,
 "nbformat_minor": 2
}

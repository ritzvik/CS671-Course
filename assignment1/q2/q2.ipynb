{
 "cells": [
  {
   "cell_type": "code",
   "execution_count": 1,
   "metadata": {},
   "outputs": [],
   "source": [
    "import numpy as np\n",
    "import tensorflow as tf"
   ]
  },
  {
   "cell_type": "code",
   "execution_count": 2,
   "metadata": {},
   "outputs": [],
   "source": [
    "M = np.load(\"masses.npy\")\n",
    "V = np.load(\"initial_velocities.npy\")\n",
    "X = np.load(\"initial_positions.npy\")\n",
    "G = 6.67e5\n",
    "timestep = 1e-4\n",
    "end_time = 1.0\n",
    "n = M.shape[0]\n",
    "threshold_dist = 0.1"
   ]
  },
  {
   "cell_type": "code",
   "execution_count": 3,
   "metadata": {},
   "outputs": [],
   "source": [
    "masses = tf.placeholder(float, shape=(n, 1))\n",
    "vels = tf.placeholder(float, shape=(n, 2))\n",
    "pos = tf.placeholder(float, shape=(n, 2))\n",
    "pos_mat = tf.reshape(tf.tile(pos, (n, 1)), shape=(n, n, 2))\n",
    "pos_rel = tf.subtract(pos_mat, tf.transpose(pos_mat, (1, 0, 2)))\n",
    "pos_rel_sq = pos_rel ** 2\n",
    "pos_div = (pos_rel_sq[:, :, 0] + pos_rel_sq[:, :, 1]) ** (3 / 2)\n",
    "npos_0 = tf.div_no_nan(pos_rel[:, :, 0], pos_div)\n",
    "npos_1 = tf.div_no_nan(pos_rel[:, :, 1], pos_div)\n",
    "acc_0 = -G * tf.linalg.matmul(npos_0, masses)\n",
    "acc_1 = -G * tf.linalg.matmul(npos_1, masses)\n",
    "acc = tf.reshape(tf.stack((acc_0, acc_1), axis=1), (n, 2))\n",
    "new_vels = tf.add(vels, timestep * acc)\n",
    "new_pos = tf.add(pos, tf.add(vels * timestep, 0.5 * (timestep ** 2) * acc))"
   ]
  },
  {
   "cell_type": "code",
   "execution_count": 4,
   "metadata": {},
   "outputs": [],
   "source": [
    "pos_list, vel_list = list(), list()\n",
    "pd = 10000 * np.ones((n, n), float)\n",
    "newV, newX = V, X\n",
    "time = 0.0\n",
    "count = 0\n",
    "with tf.Session() as sess:\n",
    "    writer = tf.summary.FileWriter(\"./graphs\", sess.graph)\n",
    "    np.fill_diagonal(pd, 10000)\n",
    "    tmp = np.amin(pd)\n",
    "    while tmp > threshold_dist:\n",
    "        count += 1\n",
    "        # print(tmp)\n",
    "        time += timestep\n",
    "        pos_list.append(newX)\n",
    "        vel_list.append(newV)\n",
    "        pd, newV, newX = sess.run(\n",
    "            [pos_div, new_vels, new_pos], {masses: M, vels: newV, pos: newX}\n",
    "        )\n",
    "        pd = pd ** (1 / 3)\n",
    "        np.fill_diagonal(pd, 10000)\n",
    "        tmp = np.amin(pd)"
   ]
  },
  {
   "cell_type": "code",
   "execution_count": 5,
   "metadata": {},
   "outputs": [
    {
     "name": "stdout",
     "output_type": "stream",
     "text": [
      "237\n"
     ]
    }
   ],
   "source": [
    "# no of iterations for convergance\n",
    "print(count)"
   ]
  },
  {
   "cell_type": "code",
   "execution_count": 6,
   "metadata": {},
   "outputs": [],
   "source": [
    "np.save(\"positions.npy\", newX)\n",
    "np.save(\"velocities.npy\", newV)"
   ]
  },
  {
   "cell_type": "markdown",
   "metadata": {},
   "source": [
    "### computational graph\n",
    "![](graph.png)"
   ]
  }
 ],
 "metadata": {
  "kernelspec": {
   "display_name": "Python 3",
   "language": "python",
   "name": "python3"
  },
  "language_info": {
   "codemirror_mode": {
    "name": "ipython",
    "version": 3
   },
   "file_extension": ".py",
   "mimetype": "text/x-python",
   "name": "python",
   "nbconvert_exporter": "python",
   "pygments_lexer": "ipython3",
   "version": "3.6.8"
  }
 },
 "nbformat": 4,
 "nbformat_minor": 2
}

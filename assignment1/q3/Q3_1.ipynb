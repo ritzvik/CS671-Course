{
 "cells": [
  {
   "cell_type": "code",
   "execution_count": 1,
   "metadata": {},
   "outputs": [],
   "source": [
    "import tensorflow as tf\n",
    "import matplotlib.pyplot as plt \n",
    "import numpy as np\n",
    "import cv2\n",
    "import glob"
   ]
  },
  {
   "cell_type": "code",
   "execution_count": 2,
   "metadata": {},
   "outputs": [],
   "source": [
    "total_images = []\n",
    "total_label = []\n",
    "for i in range(2):\n",
    "    for j in range(2):\n",
    "        for k in range(12):\n",
    "            for l in range(2):\n",
    "                string = str(i)+'_'+str(j)+'_'+str(k)+'_'+str(l)\n",
    "                files = glob.glob(\"../q1/images/%s/*.jpg\"%(string)) # image path\n",
    "                for myFile in files:\n",
    "                    image = cv2.imread (myFile)\n",
    "                    total_images.append (image)\n",
    "                    total_label.append((i,j,k,l))\n"
   ]
  },
  {
   "cell_type": "code",
   "execution_count": 3,
   "metadata": {},
   "outputs": [
    {
     "name": "stdout",
     "output_type": "stream",
     "text": [
      "(96000, 28, 28, 3)\n",
      "(96000, 4)\n"
     ]
    }
   ],
   "source": [
    "total_images = np.array(total_images,dtype=float)\n",
    "total_label = np.array(total_label,dtype=int)\n",
    "n = total_images.shape[0]\n",
    "print(total_images.shape)\n",
    "print(total_label.shape)"
   ]
  },
  {
   "cell_type": "code",
   "execution_count": 4,
   "metadata": {},
   "outputs": [],
   "source": [
    "total_images = total_images/255"
   ]
  },
  {
   "cell_type": "code",
   "execution_count": 5,
   "metadata": {},
   "outputs": [],
   "source": [
    "total_labels = np.array(total_label,dtype=int)"
   ]
  },
  {
   "cell_type": "code",
   "execution_count": 6,
   "metadata": {},
   "outputs": [
    {
     "data": {
      "image/png": "[encoded data removed]",
      "text/plain": [
       "<Figure size 432x288 with 1 Axes>"
      ]
     },
     "metadata": {
      "needs_background": "light"
     },
     "output_type": "display_data"
    }
   ],
   "source": [
    "imgplot = plt.imshow(total_images[0])\n",
    "\n",
    "plt.show()"
   ]
  },
  {
   "cell_type": "code",
   "execution_count": 7,
   "metadata": {},
   "outputs": [],
   "source": [
    "total_images = np.reshape(total_images, (n, total_images.shape[1]*total_images.shape[2]*total_images.shape[3]))"
   ]
  },
  {
   "cell_type": "code",
   "execution_count": 8,
   "metadata": {},
   "outputs": [
    {
     "name": "stdout",
     "output_type": "stream",
     "text": [
      "(96000, 96)\n"
     ]
    }
   ],
   "source": [
    "total_labels = np.zeros(shape=(n, 96), dtype=int)\n",
    "for i,t in enumerate(total_label):\n",
    "    n2 = 48*t[0]+24*t[1]+t[2]*2+int(t[3])\n",
    "    total_labels[i][n2] = 1\n",
    "\n",
    "print(total_labels.shape)"
   ]
  },
  {
   "cell_type": "code",
   "execution_count": 9,
   "metadata": {},
   "outputs": [],
   "source": [
    "learning_rate = 0.7\n",
    "epochs = 30\n",
    "batch_size = 100\n",
    "# declare the training data placeholders\n",
    "x = tf.placeholder(tf.float32, [None, 2352])\n",
    "# now declare the output data placeholder \n",
    "y = tf.placeholder(tf.float32, [None, 96])"
   ]
  },
  {
   "cell_type": "code",
   "execution_count": 10,
   "metadata": {},
   "outputs": [],
   "source": [
    "# now declare the weights connecting the input to the hidden layer\n",
    "# Jai Bajrang Bali.\n",
    "W1 = tf.Variable(tf.random_normal([2352, 121], stddev=0.03), name='W1')\n",
    "b1 = tf.Variable(tf.random_normal([121]), name='b1')\n",
    "# and the weights connecting the hidden layer to the output layer\n",
    "W2 = tf.Variable(tf.random_normal([121, 96], stddev=0.03), name='W2')\n",
    "b2 = tf.Variable(tf.random_normal([96]), name='b2')"
   ]
  },
  {
   "cell_type": "code",
   "execution_count": 11,
   "metadata": {},
   "outputs": [],
   "source": [
    "# calculate the output of the hidden layer\n",
    "hidden_out = tf.add(tf.matmul(x, W1), b1)\n",
    "hidden_out = tf.nn.relu(hidden_out)"
   ]
  },
  {
   "cell_type": "code",
   "execution_count": 12,
   "metadata": {},
   "outputs": [],
   "source": [
    "y_ = tf.nn.softmax(tf.add(tf.matmul(hidden_out, W2), b2))\n",
    "confusion_matrix_tf = tf.confusion_matrix(tf.argmax(y, 1), tf.argmax(y_, 1))"
   ]
  },
  {
   "cell_type": "code",
   "execution_count": 13,
   "metadata": {},
   "outputs": [],
   "source": [
    "y_clipped = tf.clip_by_value(y_, 1e-10, 0.9999999)\n",
    "cross_entropy = -tf.reduce_mean(tf.reduce_sum(y * tf.log(y_clipped)\n",
    "                         + (1 - y) * tf.log(1 - y_clipped), axis=1))"
   ]
  },
  {
   "cell_type": "code",
   "execution_count": 14,
   "metadata": {},
   "outputs": [],
   "source": [
    "# add an optimiser\n",
    "optimiser = tf.train.GradientDescentOptimizer(learning_rate=learning_rate).minimize(cross_entropy)"
   ]
  },
  {
   "cell_type": "code",
   "execution_count": 15,
   "metadata": {},
   "outputs": [],
   "source": [
    "# finally setup the initialisation operator\n",
    "init_op = tf.global_variables_initializer()\n",
    "pred=tf.argmax(y_, 1)\n",
    "# define an accuracy assessment operation\n",
    "correct_prediction = tf.equal(tf.argmax(y, 1), tf.argmax(y_, 1))\n",
    "accuracy = tf.reduce_mean(tf.cast(correct_prediction, tf.float32))"
   ]
  },
  {
   "cell_type": "code",
   "execution_count": 16,
   "metadata": {},
   "outputs": [],
   "source": [
    "def shuffle(a,b):\n",
    "    indices = np.arange(a.shape[0])\n",
    "    np.random.shuffle(indices)\n",
    "    a = a[indices]\n",
    "    b = b[indices]\n",
    "    return a,b"
   ]
  },
  {
   "cell_type": "code",
   "execution_count": 17,
   "metadata": {},
   "outputs": [],
   "source": [
    "total_images, total_labels=shuffle(total_images, total_labels)"
   ]
  },
  {
   "cell_type": "code",
   "execution_count": 18,
   "metadata": {},
   "outputs": [
    {
     "name": "stdout",
     "output_type": "stream",
     "text": [
      "19.698039215686276\n",
      "0.49019607843137253\n",
      "53\n"
     ]
    }
   ],
   "source": [
    "print(np.sum(total_images[0]))\n",
    "print(np.max(total_images[0]))\n",
    "print(np.argmax(total_labels[0]))"
   ]
  },
  {
   "cell_type": "code",
   "execution_count": 19,
   "metadata": {},
   "outputs": [
    {
     "data": {
      "image/png": "[encoded data removed]",
      "text/plain": [
       "<Figure size 432x288 with 1 Axes>"
      ]
     },
     "metadata": {
      "needs_background": "light"
     },
     "output_type": "display_data"
    }
   ],
   "source": [
    "imgplot = plt.imshow(total_images[0].reshape(28,28,3))\n",
    "plt.show()"
   ]
  },
  {
   "cell_type": "code",
   "execution_count": 20,
   "metadata": {},
   "outputs": [],
   "source": [
    "train_images = total_images[:70000]\n",
    "train_labels = total_labels[:70000]\n",
    "test_images = total_images[70000:]\n",
    "test_labels = total_labels[70000:]\n"
   ]
  },
  {
   "cell_type": "code",
   "execution_count": 21,
   "metadata": {},
   "outputs": [
    {
     "name": "stdout",
     "output_type": "stream",
     "text": [
      "Epoch: 1 cost = 4.153\n",
      "Epoch: 2 cost = 2.538\n",
      "Epoch: 3 cost = 1.462\n",
      "Epoch: 4 cost = 0.991\n",
      "Epoch: 5 cost = 0.754\n",
      "Epoch: 6 cost = 0.605\n",
      "Epoch: 7 cost = 0.500\n",
      "Epoch: 8 cost = 0.404\n",
      "Epoch: 9 cost = 0.335\n",
      "Epoch: 10 cost = 0.274\n",
      "Epoch: 11 cost = 0.241\n",
      "Epoch: 12 cost = 0.192\n",
      "Epoch: 13 cost = 0.162\n",
      "Epoch: 14 cost = 0.140\n",
      "Epoch: 15 cost = 0.119\n",
      "Epoch: 16 cost = 0.105\n",
      "Epoch: 17 cost = 0.090\n",
      "Epoch: 18 cost = 0.080\n",
      "Epoch: 19 cost = 0.070\n",
      "Epoch: 20 cost = 0.062\n",
      "Epoch: 21 cost = 0.055\n",
      "Epoch: 22 cost = 0.050\n",
      "Epoch: 23 cost = 0.045\n",
      "Epoch: 24 cost = 0.041\n",
      "Epoch: 25 cost = 0.038\n",
      "Epoch: 26 cost = 0.035\n",
      "Epoch: 27 cost = 0.032\n",
      "Epoch: 28 cost = 0.030\n",
      "Epoch: 29 cost = 0.028\n",
      "Epoch: 30 cost = 0.026\n",
      "[44 82 83 ... 88 35 52]\n",
      "[0.99688464]\n",
      "[[251   0   3 ...   0   0   0]\n",
      " [  0 284   0 ...   0   0   0]\n",
      " [  4   0 262 ...   0   0   0]\n",
      " ...\n",
      " [  0   0   0 ... 281   0   0]\n",
      " [  0   0   0 ...   0 251   0]\n",
      " [  0   0   0 ...   0   0 281]]\n",
      "[0.97098646 0.99474606 0.97217069 0.97902098 0.98540146 0.98194946\n",
      " 1.         0.99805825 1.         1.         0.9982906  0.99424184\n",
      " 0.99270073 0.98720293 0.98734177 0.98972603 0.98676749 0.98880597\n",
      " 1.         0.99641577 0.96903461 0.98671727 0.95970696 0.99075786\n",
      " 1.         1.         1.         1.         1.         1.\n",
      " 0.99635036 1.         0.99652778 1.         1.         1.\n",
      " 1.         1.         1.         1.         1.         1.\n",
      " 1.         1.         1.         1.         1.         1.\n",
      " 1.         1.         1.         1.         1.         1.\n",
      " 1.         1.         1.         1.         1.         1.\n",
      " 1.         1.         1.         1.         1.         1.\n",
      " 1.         1.         1.         1.         1.         1.\n",
      " 1.         1.         1.         1.         1.         1.\n",
      " 1.         1.         1.         1.         1.         1.\n",
      " 1.         1.         1.         1.         1.         1.\n",
      " 1.         1.         1.         1.         1.         1.        ]\n"
     ]
    }
   ],
   "source": [
    "# start the session\n",
    "cm = tf.zeros(shape=[96,96], dtype=tf.int32)\n",
    "with tf.Session() as sess:\n",
    "    # initialise the variables\n",
    "    sess.run(init_op)\n",
    "    avg_cost = []\n",
    "    accur_list=[]\n",
    "    \n",
    "    total_batch = int(len(train_labels) / batch_size)\n",
    "    for epoch in range(epochs):\n",
    "        avg_cost.append(0)\n",
    "        accur_list.append(0)\n",
    "        train_images, train_labels=shuffle(train_images, train_labels)\n",
    "        for i in range(total_batch):\n",
    "            batch_x=train_images[batch_size*i:batch_size*i+batch_size]\n",
    "            batch_y=train_labels[batch_size*i:batch_size*i+batch_size]\n",
    "            c = sess.run([optimiser, cross_entropy], \n",
    "                         feed_dict={x: batch_x, y: batch_y})\n",
    "            avg_cost[epoch] += c[1] / total_batch\n",
    "        accur_list[epoch]=sess.run(accuracy, feed_dict={x:test_images, y: test_labels})\n",
    "        print(\"Epoch:\", (epoch + 1), \"cost =\", \"{:.3f}\".format(avg_cost[epoch]))\n",
    "        \n",
    "    predictions = pred.eval(feed_dict = {x:test_images})\n",
    "    print(predictions)\n",
    "    print(sess.run([accuracy], feed_dict={x:test_images, y: test_labels}))\n",
    "    cm = confusion_matrix_tf.eval(feed_dict={x:test_images, y: test_labels})\n",
    "    \n",
    "    print(cm)\n",
    "    \n",
    "    TP = np.diag(cm)\n",
    "    FP = np.sum(cm, axis=0) - TP\n",
    "    FN = np.sum(cm, axis=1) - TP\n",
    "    \n",
    "    precision = TP/(TP+FP)\n",
    "    recall = TP/(TP+FN)\n",
    "    F_scores = 2* (precision*recall)/(precision+recall)\n",
    "    print(F_scores)"
   ]
  },
  {
   "cell_type": "code",
   "execution_count": 22,
   "metadata": {},
   "outputs": [],
   "source": [
    "def decoder(n):\n",
    "    i=int(n/48)\n",
    "    j=int((n%48)/24)\n",
    "    k=int(((n%48)%24)/2)\n",
    "    l=int(((n%48)%24)%2)\n",
    "    return i,j,k,l"
   ]
  },
  {
   "cell_type": "code",
   "execution_count": 23,
   "metadata": {},
   "outputs": [
    {
     "name": "stdout",
     "output_type": "stream",
     "text": [
      "(1, 1, 5, 0)\n"
     ]
    }
   ],
   "source": [
    "answer_class = list()\n",
    "for i,t in enumerate(predictions):\n",
    "    answer_class.append(decoder(t))\n",
    "\n",
    "print (answer_class[1])"
   ]
  },
  {
   "cell_type": "code",
   "execution_count": 24,
   "metadata": {},
   "outputs": [
    {
     "data": {
      "image/png": "[encoded data removed]",
      "text/plain": [
       "<Figure size 432x288 with 1 Axes>"
      ]
     },
     "metadata": {
      "needs_background": "light"
     },
     "output_type": "display_data"
    }
   ],
   "source": [
    "plt.plot(range(epochs), avg_cost)\n",
    "plt.show()"
   ]
  },
  {
   "cell_type": "code",
   "execution_count": 25,
   "metadata": {},
   "outputs": [
    {
     "data": {
      "image/png": "[encoded data removed]",
      "text/plain": [
       "<Figure size 432x288 with 1 Axes>"
      ]
     },
     "metadata": {
      "needs_background": "light"
     },
     "output_type": "display_data"
    }
   ],
   "source": [
    "plt.plot(range(epochs), accur_list)\n",
    "plt.show()"
   ]
  },
  {
   "cell_type": "code",
   "execution_count": 27,
   "metadata": {},
   "outputs": [],
   "source": [
    "np.save('confusion.npy', cm)\n",
    "np.save('fscore.npy', F_scores)"
   ]
  }
 ],
 "metadata": {
  "kernelspec": {
   "display_name": "Python 3",
   "language": "python",
   "name": "python3"
  },
  "language_info": {
   "codemirror_mode": {
    "name": "ipython",
    "version": 3
   },
   "file_extension": ".py",
   "mimetype": "text/x-python",
   "name": "python",
   "nbconvert_exporter": "python",
   "pygments_lexer": "ipython3",
   "version": "3.6.8"
  }
 },
 "nbformat": 4,
 "nbformat_minor": 2
}

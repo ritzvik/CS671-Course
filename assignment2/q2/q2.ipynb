{
 "cells": [
  {
   "cell_type": "code",
   "execution_count": 1,
   "metadata": {},
   "outputs": [],
   "source": [
    "import numpy as np\n",
    "import tensorflow as tf\n",
    "import matplotlib.pyplot as plt\n",
    "from glob import glob\n",
    "import cv2\n",
    "import os\n",
    "from sklearn.metrics import confusion_matrix as conmat, f1_score\n",
    "from pprint import pprint"
   ]
  },
  {
   "cell_type": "code",
   "execution_count": 2,
   "metadata": {},
   "outputs": [],
   "source": [
    "if not os.path.isfile('../imgs.npy'):\n",
    "    imgs, labels = list(), list()\n",
    "\n",
    "    for i in range(2):\n",
    "        for j in range(2):\n",
    "            for k in range(12):\n",
    "                for l in range(2):\n",
    "                    S = \"{}_{}_{}_{}\".format(i,j,k,l)\n",
    "                    files = glob(\"../../assignment1/q1/images/{}/*.jpg\".format(S))\n",
    "                    for file in files:\n",
    "                        imgs.append(cv2.imread(file))\n",
    "                        labels.append([i,j,k,l])\n",
    "\n",
    "    imgs = np.array(imgs, dtype=float)/255.0\n",
    "    labels = np.array(labels, dtype=int)\n",
    "\n",
    "    np.save(\"../imgs.npy\",imgs)\n",
    "    np.save(\"../labels.npy\",labels)\n",
    "else:\n",
    "    imgs, labels = np.load(\"../imgs.npy\"), np.load(\"../labels.npy\")"
   ]
  },
  {
   "cell_type": "code",
   "execution_count": 3,
   "metadata": {},
   "outputs": [],
   "source": [
    "def shuffle(a,b):\n",
    "    indices = np.arange(a.shape[0])\n",
    "    np.random.shuffle(indices)\n",
    "    a = a[indices]\n",
    "    b = b[indices]\n",
    "    return a,b"
   ]
  },
  {
   "cell_type": "code",
   "execution_count": 4,
   "metadata": {},
   "outputs": [
    {
     "data": {
      "image/png": "[encoded data removed]",
      "text/plain": [
       "<Figure size 432x288 with 2 Axes>"
      ]
     },
     "metadata": {
      "needs_background": "light"
     },
     "output_type": "display_data"
    },
    {
     "name": "stdout",
     "output_type": "stream",
     "text": [
      "[0 1 0 0] [1 0 1 1]\n"
     ]
    }
   ],
   "source": [
    "imgs, labels = shuffle(imgs,labels)\n",
    "imgstr, labelstr = imgs[:76000], labels[:76000]\n",
    "imgste, labelste = imgs[76000:], labels[76000:]\n",
    "plt.subplot(2,2,1)\n",
    "plt.imshow(imgstr[-1])\n",
    "plt.subplot(2,2,2)\n",
    "plt.imshow(imgste[-1])\n",
    "plt.show()\n",
    "print(labelstr[-1], labelste[-1])"
   ]
  },
  {
   "cell_type": "code",
   "execution_count": 5,
   "metadata": {},
   "outputs": [],
   "source": [
    "#this function is useful in order to delete old graphs\n",
    "def reset_graph(seed=42):\n",
    "    tf.reset_default_graph()\n",
    "    tf.set_random_seed(seed)\n",
    "    np.random.seed(seed)"
   ]
  },
  {
   "cell_type": "code",
   "execution_count": 6,
   "metadata": {},
   "outputs": [],
   "source": [
    "# one hot encoding\n",
    "def onehot(classes, tensor):\n",
    "    N = tensor.shape[0]\n",
    "    a = np.zeros((N, classes), dtype=int)\n",
    "    for i,t in enumerate(tensor):\n",
    "        a[i][t] = 1\n",
    "    return a"
   ]
  },
  {
   "cell_type": "code",
   "execution_count": 7,
   "metadata": {},
   "outputs": [
    {
     "name": "stdout",
     "output_type": "stream",
     "text": [
      "[0 1 0 0] [1 0 0 0 0 0 0 0 0 0 0 0]\n",
      "[1 0 1 1] [0 1 0 0 0 0 0 0 0 0 0 0]\n",
      "(76000, 28, 28, 3) (76000, 12)\n"
     ]
    }
   ],
   "source": [
    "anglestr = onehot(12, labelstr[:,2])\n",
    "angleste = onehot(12, labelste[:,2])\n",
    "print (labelstr[-1], anglestr[-1])\n",
    "print (labelste[-1], angleste[-1])\n",
    "print(imgstr.shape, anglestr.shape)"
   ]
  },
  {
   "cell_type": "code",
   "execution_count": 8,
   "metadata": {},
   "outputs": [],
   "source": [
    "# defining the input and output placeholders\n",
    "X = tf.placeholder(tf.float32, shape=[None, 28, 28, 3], name=\"X\")\n",
    "y0 = tf.placeholder(tf.float32, shape=[None], name=\"y0\")\n",
    "y1 = tf.placeholder(tf.float32, shape=[None], name=\"y1\")\n",
    "y2 = tf.placeholder(tf.float32, shape=[None], name=\"y2\")\n",
    "y3 = tf.placeholder(tf.float32, shape=[None, 12], name=\"y3\")\n",
    "    \n",
    "conv1_filters=6\n",
    "conv2_filters=8\n",
    "\n",
    "# the convolution filters\n",
    "conv1 = tf.layers.conv2d(X, filters=conv1_filters, kernel_size=5, padding='SAME', activation=None)\n",
    "conv1_relu = tf.nn.relu(conv1)\n",
    "pool1 = tf.nn.max_pool(conv1_relu, ksize=[1,2,2,1], strides=[1,2,2,1], padding='VALID')\n",
    "conv2 = tf.layers.conv2d(pool1, filters=conv2_filters, kernel_size=5, padding='SAME', activation=None)\n",
    "conv2_relu = tf.nn.relu(conv2)\n",
    "pool2 = tf.nn.max_pool(conv2_relu, ksize=[1,2,2,1], strides=[1,2,2,1], padding='VALID')\n",
    "flat = tf.reshape(pool2, shape=[-1, np.prod([v.value for v in pool2.shape[1:]])])\n",
    "\n",
    "# first head for length\n",
    "fc10 = tf.layers.dense(flat, 32, activation=tf.nn.relu)\n",
    "fc20 = tf.layers.dense(fc10, 1)\n",
    "fc20_r = tf.reshape(fc20, shape=[-1])\n",
    "y0_ = tf.nn.sigmoid(fc20)\n",
    "xentropy0 = tf.nn.sigmoid_cross_entropy_with_logits(labels=y0, logits=fc20_r)\n",
    "loss0 = tf.reduce_mean(xentropy0)\n",
    "correct0 = tf.cast(tf.equal(tf.reshape(tf.round(y0_),shape=[-1]),y0),tf.int32)\n",
    "\n",
    "# second head for width\n",
    "fc11 = tf.layers.dense(flat, 32, activation=tf.nn.relu)\n",
    "fc21 = tf.layers.dense(fc11, 1)\n",
    "fc21_r = tf.reshape(fc21, shape=[-1])\n",
    "y1_ = tf.nn.sigmoid(fc21)\n",
    "xentropy1 = tf.nn.sigmoid_cross_entropy_with_logits(labels=y1, logits=fc21_r)\n",
    "loss1 = tf.reduce_mean(xentropy1)\n",
    "correct1 = tf.cast(tf.equal(tf.reshape(tf.round(y1_),shape=[-1]),y1),tf.int32)\n",
    "\n",
    "# third head for color\n",
    "fc12 = tf.layers.dense(flat, 32, activation=tf.nn.relu)\n",
    "fc22 = tf.layers.dense(fc12, 1)\n",
    "fc22_r = tf.reshape(fc22, shape=[-1])\n",
    "y2_ = tf.nn.sigmoid(fc22)\n",
    "xentropy2 = tf.nn.sigmoid_cross_entropy_with_logits(labels=y2, logits=fc22_r)\n",
    "loss2 = tf.reduce_mean(xentropy2)\n",
    "correct2 = tf.cast(tf.equal(tf.reshape(tf.round(y2_),shape=[-1]),y2),tf.int32)\n",
    "\n",
    "# fourth head for angle\n",
    "fc13 = tf.layers.dense(flat, 128, activation=tf.nn.relu)\n",
    "fc23 = tf.layers.dense(fc13, 12)\n",
    "y3_ = tf.nn.softmax(fc23)\n",
    "xentropy3 = tf.nn.sparse_softmax_cross_entropy_with_logits(logits=fc23, labels=tf.argmax(y3,1))\n",
    "loss3 = tf.reduce_mean(xentropy3)\n",
    "correct3 = tf.cast(tf.nn.in_top_k(y3_,tf.argmax(y3,1),1), tf.int32)\n",
    "\n",
    "# overall loss is sum of all losses\n",
    "loss = loss0+loss1+loss2+2*loss3\n",
    "\n",
    "# backpropagate on loss\n",
    "optimizer = tf.train.AdamOptimizer()\n",
    "training_op = optimizer.minimize(loss)\n",
    "\n",
    "# a prediction is correct only if all heads predict correct labels\n",
    "correct = tf.cast((correct0+correct1+correct2+correct3)/4, tf.int32)\n",
    "accuracy = tf.reduce_mean(tf.cast(correct, tf.float32))\n",
    "\n",
    "initer = tf.global_variables_initializer()\n",
    "saver = tf.train.Saver()\n"
   ]
  },
  {
   "cell_type": "code",
   "execution_count": 9,
   "metadata": {},
   "outputs": [],
   "source": [
    "epochs = 16\n",
    "batch_size = 1000"
   ]
  },
  {
   "cell_type": "code",
   "execution_count": 10,
   "metadata": {},
   "outputs": [
    {
     "name": "stdout",
     "output_type": "stream",
     "text": [
      "Epoch: 1 Loss: 403.9580407142639 Train accuracy: 0.544 test accuracy: 0.5333\n",
      "Epoch: 2 Loss: 125.55117064714432 Train accuracy: 0.865 test accuracy: 0.8489\n",
      "Epoch: 3 Loss: 56.07027751207352 Train accuracy: 0.945 test accuracy: 0.93435\n",
      "Epoch: 4 Loss: 33.859881818294525 Train accuracy: 0.98 test accuracy: 0.9695\n",
      "Epoch: 5 Loss: 22.24177399277687 Train accuracy: 0.981 test accuracy: 0.9786\n",
      "Epoch: 6 Loss: 15.723997503519058 Train accuracy: 0.989 test accuracy: 0.9876\n",
      "Epoch: 7 Loss: 11.824138656258583 Train accuracy: 0.995 test accuracy: 0.9931\n",
      "Epoch: 8 Loss: 8.596746891736984 Train accuracy: 0.996 test accuracy: 0.99465\n",
      "Epoch: 9 Loss: 7.509216599166393 Train accuracy: 0.998 test accuracy: 0.9946\n",
      "Epoch: 10 Loss: 5.670760903507471 Train accuracy: 0.998 test accuracy: 0.997\n",
      "Epoch: 11 Loss: 4.503331061452627 Train accuracy: 0.998 test accuracy: 0.9976\n",
      "Epoch: 12 Loss: 3.7799103893339634 Train accuracy: 0.999 test accuracy: 0.9979\n",
      "Epoch: 13 Loss: 3.0588950905948877 Train accuracy: 1.0 test accuracy: 0.9989\n",
      "Epoch: 14 Loss: 2.4587034340947866 Train accuracy: 1.0 test accuracy: 0.99905\n",
      "Epoch: 15 Loss: 2.1033238917589188 Train accuracy: 1.0 test accuracy: 0.9988\n",
      "Epoch: 16 Loss: 1.8678795732557774 Train accuracy: 0.999 test accuracy: 0.9991\n"
     ]
    }
   ],
   "source": [
    "accur_list = np.zeros((epochs,), dtype=float)\n",
    "loss_list = np.zeros((epochs,), dtype=float)\n",
    "\n",
    "with tf.Session() as sess:\n",
    "    initer.run()\n",
    "    for epoch in range(epochs):\n",
    "        imgstr, labelstr = shuffle(imgstr,labelstr)\n",
    "        anglestr = onehot(12, labelstr[:,2])\n",
    "        for i in range(int(76000/batch_size)):\n",
    "            X_batch = imgstr[i*batch_size:(i+1)*batch_size]\n",
    "            y0_batch = labelstr[:,0][i*batch_size:(i+1)*batch_size]\n",
    "            y1_batch = labelstr[:,1][i*batch_size:(i+1)*batch_size]\n",
    "            y2_batch = labelstr[:,3][i*batch_size:(i+1)*batch_size]\n",
    "            y3_batch = anglestr[i*batch_size:(i+1)*batch_size]\n",
    "            tmp,_ = sess.run((loss,training_op), feed_dict = {X:X_batch, y3:y3_batch, y0:y0_batch, y1:y1_batch, y2:y2_batch})\n",
    "            loss_list[epoch] += tmp\n",
    "        \n",
    "        acc_train = accuracy.eval(feed_dict={X: X_batch, y3:y3_batch, y0:y0_batch, y1:y1_batch, y2:y2_batch})\n",
    "        acc_test = accuracy.eval(feed_dict={X:imgste, y3:angleste, y0:labelste[:,0], y1:labelste[:,1], y2:labelste[:,3]})\n",
    "        accur_list[epoch] = acc_test\n",
    "        print(\"Epoch:\",epoch+1, \"Loss:\", loss_list[epoch], \"Train accuracy:\", acc_train, \"test accuracy:\", acc_test)\n",
    "    out0, out1, out2, out3 = sess.run((y0_,y1_,y2_,y3_), feed_dict={X:imgste, y3:angleste, y0:labelste[:,0], y1:labelste[:,1], y2:labelste[:,3]})\n",
    "    # save the model\n",
    "    saver.save(sess, './model_line_dataset')"
   ]
  },
  {
   "cell_type": "code",
   "execution_count": 11,
   "metadata": {},
   "outputs": [
    {
     "name": "stdout",
     "output_type": "stream",
     "text": [
      "-----Loss-----\n"
     ]
    },
    {
     "data": {
      "image/png": "[encoded data removed]",
      "text/plain": [
       "<Figure size 432x288 with 1 Axes>"
      ]
     },
     "metadata": {
      "needs_background": "light"
     },
     "output_type": "display_data"
    }
   ],
   "source": [
    "print(\"-----Loss-----\")\n",
    "plt.plot(loss_list)\n",
    "plt.show()"
   ]
  },
  {
   "cell_type": "code",
   "execution_count": 12,
   "metadata": {},
   "outputs": [
    {
     "name": "stdout",
     "output_type": "stream",
     "text": [
      "-----Accuracy-----\n"
     ]
    },
    {
     "data": {
      "image/png": "[encoded data removed]",
      "text/plain": [
       "<Figure size 432x288 with 1 Axes>"
      ]
     },
     "metadata": {
      "needs_background": "light"
     },
     "output_type": "display_data"
    }
   ],
   "source": [
    "print(\"-----Accuracy-----\")\n",
    "plt.plot(accur_list)\n",
    "plt.show()"
   ]
  },
  {
   "cell_type": "code",
   "execution_count": 13,
   "metadata": {},
   "outputs": [
    {
     "name": "stdout",
     "output_type": "stream",
     "text": [
      "Confusion matrix for HEAD 0 (length)\n",
      "\n",
      "[[ 9940     0]\n",
      " [    0 10060]]\n",
      "\n",
      "F-Score :\n",
      " [1. 1.]\n"
     ]
    }
   ],
   "source": [
    "cm0 = conmat(labelste[:,0],np.around(out0.flatten()))\n",
    "print(\"Confusion matrix for HEAD 0 (length)\\n\")\n",
    "print(cm0)\n",
    "f0 = f1_score(labelste[:,0], np.around(out0.flatten()), average=None)\n",
    "print(\"\\nF-Score :\\n\", f0)"
   ]
  },
  {
   "cell_type": "code",
   "execution_count": 14,
   "metadata": {},
   "outputs": [
    {
     "name": "stdout",
     "output_type": "stream",
     "text": [
      "Confusion matrix for HEAD 1 (width)\n",
      "\n",
      "[[ 9994     0]\n",
      " [    0 10006]]\n",
      "\n",
      "F-Score :\n",
      " [1. 1.]\n"
     ]
    }
   ],
   "source": [
    "cm1 = conmat(labelste[:,1],np.around(out1.flatten()))\n",
    "print(\"Confusion matrix for HEAD 1 (width)\\n\")\n",
    "print(cm1)\n",
    "f1 = f1_score(labelste[:,1], np.around(out1.flatten()), average=None)\n",
    "print(\"\\nF-Score :\\n\", f1)"
   ]
  },
  {
   "cell_type": "code",
   "execution_count": 15,
   "metadata": {},
   "outputs": [
    {
     "name": "stdout",
     "output_type": "stream",
     "text": [
      "Confusion matrix for HEAD 2 (color)\n",
      "\n",
      "[[ 9962     0]\n",
      " [    0 10038]]\n",
      "\n",
      "F-Score :\n",
      " [1. 1.]\n"
     ]
    }
   ],
   "source": [
    "cm2 = conmat(labelste[:,3],np.around(out2.flatten()))\n",
    "print(\"Confusion matrix for HEAD 2 (color)\\n\")\n",
    "print(cm2)\n",
    "f2 = f1_score(labelste[:,3],np.around(out2.flatten()), average=None)\n",
    "print(\"\\nF-Score :\\n\", f2)"
   ]
  },
  {
   "cell_type": "code",
   "execution_count": 16,
   "metadata": {},
   "outputs": [
    {
     "name": "stdout",
     "output_type": "stream",
     "text": [
      "Confusion matrix for HEAD 3 (angle)\n",
      "\n",
      "[[1673    0    0    0    0    0    0    0    0    0    0    0]\n",
      " [   1 1646    6    0    0    0    0    0    0    0    0    0]\n",
      " [   0    2 1652    0    0    0    0    0    0    0    0    0]\n",
      " [   0    0    0 1687    1    0    0    0    0    0    0    0]\n",
      " [   0    0    0    0 1687    0    0    0    0    0    0    0]\n",
      " [   0    0    0    0    0 1614    1    0    0    0    0    0]\n",
      " [   0    0    0    0    0    0 1718    0    0    0    0    0]\n",
      " [   0    0    0    0    0    0    2 1702    0    0    0    0]\n",
      " [   0    0    0    0    0    0    0    0 1649    0    0    0]\n",
      " [   0    0    0    0    0    0    0    0    0 1670    0    0]\n",
      " [   0    0    0    0    0    0    0    0    0    0 1643    1]\n",
      " [   1    0    0    0    0    0    0    0    0    0    3 1641]]\n",
      "\n",
      "F-Score :\n",
      " [0.99940263 0.99727355 0.99758454 0.9997037  0.9997037  0.99969031\n",
      " 0.99912765 0.9994128  1.         1.         0.99878419 0.99847886]\n"
     ]
    }
   ],
   "source": [
    "cm3 = conmat(labelste[:,2],np.argmax(out3, 1))\n",
    "print(\"Confusion matrix for HEAD 3 (angle)\\n\")\n",
    "print(cm3)\n",
    "f3 = f1_score(labelste[:,2],np.argmax(out3, 1), average=None)\n",
    "print(\"\\nF-Score :\\n\", f3)"
   ]
  }
 ],
 "metadata": {
  "kernelspec": {
   "display_name": "Python 3",
   "language": "python",
   "name": "python3"
  },
  "language_info": {
   "codemirror_mode": {
    "name": "ipython",
    "version": 3
   },
   "file_extension": ".py",
   "mimetype": "text/x-python",
   "name": "python",
   "nbconvert_exporter": "python",
   "pygments_lexer": "ipython3",
   "version": "3.6.8"
  }
 },
 "nbformat": 4,
 "nbformat_minor": 2
}

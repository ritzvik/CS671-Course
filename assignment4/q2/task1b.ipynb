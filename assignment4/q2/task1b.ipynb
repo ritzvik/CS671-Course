{
 "cells": [
  {
   "cell_type": "code",
   "execution_count": 1,
   "metadata": {},
   "outputs": [
    {
     "name": "stderr",
     "output_type": "stream",
     "text": [
      "Using TensorFlow backend.\n"
     ]
    }
   ],
   "source": [
    "import numpy as np\n",
    "import keras\n",
    "from keras.models import Sequential\n",
    "from keras.layers import Dense, TimeDistributed, Lambda\n",
    "from keras.layers import Dropout\n",
    "from keras.layers import SimpleRNN, LSTM\n",
    "import matplotlib.pyplot as plt\n",
    "import random"
   ]
  },
  {
   "cell_type": "code",
   "execution_count": 2,
   "metadata": {},
   "outputs": [
    {
     "name": "stdout",
     "output_type": "stream",
     "text": [
      "_________________________________________________________________\n",
      "Layer (type)                 Output Shape              Param #   \n",
      "=================================================================\n",
      "lstm_1 (LSTM)                (None, 128)               66560     \n",
      "_________________________________________________________________\n",
      "dropout_1 (Dropout)          (None, 128)               0         \n",
      "_________________________________________________________________\n",
      "dense_1 (Dense)              (None, 128)               16512     \n",
      "_________________________________________________________________\n",
      "dropout_2 (Dropout)          (None, 128)               0         \n",
      "_________________________________________________________________\n",
      "dense_2 (Dense)              (None, 16)                2064      \n",
      "_________________________________________________________________\n",
      "dense_3 (Dense)              (None, 1)                 17        \n",
      "_________________________________________________________________\n",
      "lambda_1 (Lambda)            (None, 1)                 0         \n",
      "=================================================================\n",
      "Total params: 85,153\n",
      "Trainable params: 85,153\n",
      "Non-trainable params: 0\n",
      "_________________________________________________________________\n"
     ]
    }
   ],
   "source": [
    "model = Sequential()\n",
    "\n",
    "model.add(LSTM(128, input_shape=(None, 1)))\n",
    "model.add(Dropout(0.1))\n",
    "model.add(Dense(128, activation='relu'))\n",
    "model.add(Dropout(0.1))\n",
    "model.add(Dense(16, activation='relu'))\n",
    "model.add(Dense(1, activation='sigmoid'))\n",
    "model.add(Lambda(lambda x:(-1.25+x*2.5)))\n",
    "\n",
    "model.summary()"
   ]
  },
  {
   "cell_type": "code",
   "execution_count": 3,
   "metadata": {},
   "outputs": [],
   "source": [
    "def sine_gen(batchsize):\n",
    "    if True:\n",
    "        seqlen = np.random.randint(5,10)\n",
    "        x_train, y_train = list(), list()\n",
    "        for i in range(batchsize):\n",
    "            theta = random.uniform(0,2*np.pi)\n",
    "            sines = np.array([np.sin(theta+j*1e-1) for j in range(seqlen)])\n",
    "            x_train.append(sines.reshape(seqlen,1))\n",
    "            y_train.append([np.sin(theta+seqlen*1e-1)])\n",
    "        return np.array(x_train), np.array(y_train)"
   ]
  },
  {
   "cell_type": "code",
   "execution_count": 4,
   "metadata": {},
   "outputs": [],
   "source": [
    "def triangle(x):\n",
    "    x = x - (np.floor(x/(2*np.pi))*2*np.pi)\n",
    "    normx = x/np.pi\n",
    "    # print(normx)\n",
    "    if normx<1:\n",
    "        return 2*(normx-0.5)\n",
    "    else:\n",
    "        return 2*(-normx+1.5)\n",
    "\n",
    "def triangle_gen(batchsize):\n",
    "    if True:\n",
    "        seqlen = np.random.randint(5,10)\n",
    "        x_train, y_train = list(), list()\n",
    "        for i in range(batchsize):\n",
    "            theta = random.uniform(0,2*np.pi)\n",
    "            sines = np.array([triangle(theta+j*1e-1) for j in range(seqlen)])\n",
    "            x_train.append(sines.reshape(seqlen,1))\n",
    "            y_train.append([triangle(theta+seqlen*1e-1)])\n",
    "        return np.array(x_train), np.array(y_train)"
   ]
  },
  {
   "cell_type": "code",
   "execution_count": 13,
   "metadata": {},
   "outputs": [],
   "source": [
    "def generate(batchsize, sine_out=None):\n",
    "    while True:\n",
    "        if sine_out is None:\n",
    "            decision = np.random.randint(0,2)\n",
    "        else:\n",
    "            decision = 1-int(sine_out)\n",
    "        #\n",
    "        if decision==0:\n",
    "            yield sine_gen(batchsize)\n",
    "        else:\n",
    "            yield triangle_gen(batchsize)"
   ]
  },
  {
   "cell_type": "code",
   "execution_count": 12,
   "metadata": {},
   "outputs": [
    {
     "name": "stdout",
     "output_type": "stream",
     "text": [
      "Epoch 1/20\n",
      "400/400 [==============================] - 27s 68ms/step - loss: 0.0194 - val_loss: 8.7621e-04\n",
      "Epoch 2/20\n",
      "400/400 [==============================] - 12s 30ms/step - loss: 0.0019 - val_loss: 4.3471e-04\n",
      "Epoch 3/20\n",
      "400/400 [==============================] - 12s 31ms/step - loss: 0.0013 - val_loss: 4.8288e-04\n",
      "Epoch 4/20\n",
      "400/400 [==============================] - 14s 34ms/step - loss: 0.0011 - val_loss: 3.8919e-04\n",
      "Epoch 5/20\n",
      "400/400 [==============================] - 13s 31ms/step - loss: 9.7144e-04 - val_loss: 1.5055e-04\n",
      "Epoch 6/20\n",
      "400/400 [==============================] - 14s 34ms/step - loss: 9.0969e-04 - val_loss: 2.4466e-04\n",
      "Epoch 7/20\n",
      "400/400 [==============================] - 15s 37ms/step - loss: 8.3865e-04 - val_loss: 4.2142e-04\n",
      "Epoch 8/20\n",
      "400/400 [==============================] - 16s 39ms/step - loss: 7.8506e-04 - val_loss: 2.5987e-04\n",
      "Epoch 9/20\n",
      "400/400 [==============================] - 13s 34ms/step - loss: 7.3368e-04 - val_loss: 1.4929e-04\n",
      "Epoch 10/20\n",
      "400/400 [==============================] - 12s 30ms/step - loss: 6.8419e-04 - val_loss: 5.4379e-04\n",
      "Epoch 11/20\n",
      "400/400 [==============================] - 13s 33ms/step - loss: 6.4989e-04 - val_loss: 3.3796e-04\n",
      "Epoch 12/20\n",
      "400/400 [==============================] - 14s 35ms/step - loss: 6.2135e-04 - val_loss: 1.2318e-04\n",
      "Epoch 13/20\n",
      "400/400 [==============================] - 13s 33ms/step - loss: 6.1828e-04 - val_loss: 1.5372e-04\n",
      "Epoch 14/20\n",
      "400/400 [==============================] - 17s 43ms/step - loss: 5.8158e-04 - val_loss: 1.3095e-04\n",
      "Epoch 15/20\n",
      "400/400 [==============================] - 14s 34ms/step - loss: 5.7458e-04 - val_loss: 3.0046e-04\n",
      "Epoch 16/20\n",
      "400/400 [==============================] - 16s 41ms/step - loss: 5.3158e-04 - val_loss: 2.3425e-04\n",
      "Epoch 17/20\n",
      "400/400 [==============================] - 15s 38ms/step - loss: 5.1566e-04 - val_loss: 9.0501e-05\n",
      "Epoch 18/20\n",
      "400/400 [==============================] - 14s 34ms/step - loss: 4.9655e-04 - val_loss: 1.9582e-04\n",
      "Epoch 19/20\n",
      "400/400 [==============================] - 16s 39ms/step - loss: 4.8493e-04 - val_loss: 1.9972e-05\n",
      "Epoch 20/20\n",
      "400/400 [==============================] - 18s 44ms/step - loss: 4.6984e-04 - val_loss: 1.2757e-04\n"
     ]
    },
    {
     "data": {
      "text/plain": [
       "<keras.callbacks.History at 0x1fabaab3710>"
      ]
     },
     "execution_count": 12,
     "metadata": {},
     "output_type": "execute_result"
    }
   ],
   "source": [
    "model.compile(loss='mean_squared_error', optimizer='adam')\n",
    "model.fit_generator(generate(128), steps_per_epoch=400, epochs=20, verbose=1,\n",
    "                   validation_data=generate(64), validation_steps=1)"
   ]
  },
  {
   "cell_type": "code",
   "execution_count": 26,
   "metadata": {},
   "outputs": [
    {
     "name": "stdout",
     "output_type": "stream",
     "text": [
      "[[[0.604707  ]\n",
      "  [0.68119811]\n",
      "  [0.75088292]\n",
      "  [0.81306515]\n",
      "  [0.8671235 ]]]\n",
      "[[0.90588045]]\n"
     ]
    }
   ],
   "source": [
    "itr = generate(1, sine_out=True) # try to predict sine wave\n",
    "s=next(itr)[0]\n",
    "s=s[:,:5,:]\n",
    "print(s)\n",
    "y = model.predict(s)\n",
    "print(y)"
   ]
  },
  {
   "cell_type": "code",
   "execution_count": 27,
   "metadata": {},
   "outputs": [
    {
     "name": "stdout",
     "output_type": "stream",
     "text": [
      "0\n",
      "1000\n"
     ]
    }
   ],
   "source": [
    "np.hstack((s,y.reshape(1,1,1)))\n",
    "arr = s\n",
    "for i in range(1001):\n",
    "    tmp = model.predict(arr[:,-5:,:])\n",
    "    arr = np.hstack((arr,tmp.reshape(1,1,1)))\n",
    "    if i%1000==0:\n",
    "        print(i)"
   ]
  },
  {
   "cell_type": "code",
   "execution_count": 28,
   "metadata": {},
   "outputs": [
    {
     "data": {
      "image/png": "[encoded data removed]",
      "text/plain": [
       "<Figure size 432x288 with 1 Axes>"
      ]
     },
     "metadata": {
      "needs_background": "light"
     },
     "output_type": "display_data"
    }
   ],
   "source": [
    "arr = arr.reshape((arr.shape[1],))\n",
    "plt.plot(arr[:1000])\n",
    "plt.show()"
   ]
  },
  {
   "cell_type": "code",
   "execution_count": 29,
   "metadata": {},
   "outputs": [
    {
     "name": "stdout",
     "output_type": "stream",
     "text": [
      "[[[0.57441538]\n",
      "  [0.63807736]\n",
      "  [0.70173933]\n",
      "  [0.76540131]\n",
      "  [0.82906329]]]\n",
      "[[0.8807094]]\n"
     ]
    }
   ],
   "source": [
    "itr = generate(1, sine_out=False) # try to predict triangle wave\n",
    "s=next(itr)[0]\n",
    "s=s[:,:5,:]\n",
    "print(s)\n",
    "y = model.predict(s)\n",
    "print(y)"
   ]
  },
  {
   "cell_type": "code",
   "execution_count": 30,
   "metadata": {},
   "outputs": [
    {
     "name": "stdout",
     "output_type": "stream",
     "text": [
      "0\n",
      "1000\n"
     ]
    }
   ],
   "source": [
    "np.hstack((s,y.reshape(1,1,1)))\n",
    "arr = s\n",
    "for i in range(1001):\n",
    "    tmp = model.predict(arr[:,-5:,:])\n",
    "    arr = np.hstack((arr,tmp.reshape(1,1,1)))\n",
    "    if i%1000==0:\n",
    "        print(i)"
   ]
  },
  {
   "cell_type": "code",
   "execution_count": 31,
   "metadata": {},
   "outputs": [
    {
     "data": {
      "image/png": "[encoded data removed]",
      "text/plain": [
       "<Figure size 432x288 with 1 Axes>"
      ]
     },
     "metadata": {
      "needs_background": "light"
     },
     "output_type": "display_data"
    }
   ],
   "source": [
    "arr = arr.reshape((arr.shape[1],))\n",
    "plt.plot(arr[:1000])\n",
    "plt.show()"
   ]
  },
  {
   "cell_type": "code",
   "execution_count": null,
   "metadata": {},
   "outputs": [],
   "source": []
  }
 ],
 "metadata": {
  "kernelspec": {
   "display_name": "Python 3",
   "language": "python",
   "name": "python3"
  },
  "language_info": {
   "codemirror_mode": {
    "name": "ipython",
    "version": 3
   },
   "file_extension": ".py",
   "mimetype": "text/x-python",
   "name": "python",
   "nbconvert_exporter": "python",
   "pygments_lexer": "ipython3",
   "version": "3.6.8"
  }
 },
 "nbformat": 4,
 "nbformat_minor": 2
}

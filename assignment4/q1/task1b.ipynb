{
 "cells": [
  {
   "cell_type": "code",
   "execution_count": 1,
   "metadata": {},
   "outputs": [
    {
     "name": "stderr",
     "output_type": "stream",
     "text": [
      "Using TensorFlow backend.\n"
     ]
    }
   ],
   "source": [
    "import numpy as np\n",
    "import keras\n",
    "from keras.models import Sequential\n",
    "from keras.layers import Dense, TimeDistributed, Lambda\n",
    "from keras.layers import Dropout\n",
    "from keras.layers import SimpleRNN, LSTM\n",
    "import matplotlib.pyplot as plt\n",
    "import random"
   ]
  },
  {
   "cell_type": "code",
   "execution_count": 2,
   "metadata": {},
   "outputs": [
    {
     "name": "stdout",
     "output_type": "stream",
     "text": [
      "_________________________________________________________________\n",
      "Layer (type)                 Output Shape              Param #   \n",
      "=================================================================\n",
      "lstm_1 (LSTM)                (None, 128)               66560     \n",
      "_________________________________________________________________\n",
      "dropout_1 (Dropout)          (None, 128)               0         \n",
      "_________________________________________________________________\n",
      "dense_1 (Dense)              (None, 128)               16512     \n",
      "_________________________________________________________________\n",
      "dropout_2 (Dropout)          (None, 128)               0         \n",
      "_________________________________________________________________\n",
      "dense_2 (Dense)              (None, 16)                2064      \n",
      "_________________________________________________________________\n",
      "dense_3 (Dense)              (None, 1)                 17        \n",
      "_________________________________________________________________\n",
      "lambda_1 (Lambda)            (None, 1)                 0         \n",
      "=================================================================\n",
      "Total params: 85,153\n",
      "Trainable params: 85,153\n",
      "Non-trainable params: 0\n",
      "_________________________________________________________________\n"
     ]
    }
   ],
   "source": [
    "model = Sequential()\n",
    "\n",
    "model.add(LSTM(128, input_shape=(None, 1)))\n",
    "model.add(Dropout(0.1))\n",
    "model.add(Dense(128, activation='relu'))\n",
    "model.add(Dropout(0.1))\n",
    "model.add(Dense(16, activation='relu'))\n",
    "model.add(Dense(1, activation='sigmoid'))\n",
    "model.add(Lambda(lambda x:(-1.25+x*2.5)))\n",
    "\n",
    "model.summary()"
   ]
  },
  {
   "cell_type": "code",
   "execution_count": 3,
   "metadata": {},
   "outputs": [],
   "source": [
    "def triangle(x):\n",
    "    x = x - (np.floor(x/(2*np.pi))*2*np.pi)\n",
    "    normx = x/np.pi\n",
    "    # print(normx)\n",
    "    if normx<1:\n",
    "        return 2*(normx-0.5)\n",
    "    else:\n",
    "        return 2*(-normx+1.5)\n",
    "\n",
    "def triangle_gen(batchsize):\n",
    "    while True:\n",
    "        seqlen = np.random.randint(5,10)\n",
    "        x_train, y_train = list(), list()\n",
    "        for i in range(batchsize):\n",
    "            theta = random.uniform(0,2*np.pi)\n",
    "            sines = np.array([triangle(theta+j*1e-1) for j in range(seqlen)])\n",
    "            x_train.append(sines.reshape(seqlen,1))\n",
    "            y_train.append([triangle(theta+seqlen*1e-1)])\n",
    "        yield np.array(x_train), np.array(y_train)"
   ]
  },
  {
   "cell_type": "code",
   "execution_count": 50,
   "metadata": {},
   "outputs": [],
   "source": [
    "model.compile(loss='mean_squared_error', optimizer='adam')"
   ]
  },
  {
   "cell_type": "code",
   "execution_count": 51,
   "metadata": {},
   "outputs": [
    {
     "name": "stdout",
     "output_type": "stream",
     "text": [
      "Epoch 1/20\n",
      "200/200 [==============================] - 31s 155ms/step - loss: 0.0293 - val_loss: 9.1600e-04\n",
      "Epoch 2/20\n",
      "200/200 [==============================] - 8s 42ms/step - loss: 0.0030 - val_loss: 9.3620e-04\n",
      "Epoch 3/20\n",
      "200/200 [==============================] - 7s 37ms/step - loss: 0.0020 - val_loss: 2.8365e-04\n",
      "Epoch 4/20\n",
      "200/200 [==============================] - 7s 35ms/step - loss: 0.0015 - val_loss: 4.4346e-04\n",
      "Epoch 5/20\n",
      "200/200 [==============================] - 6s 32ms/step - loss: 0.0012 - val_loss: 1.7328e-04\n",
      "Epoch 6/20\n",
      "200/200 [==============================] - 7s 33ms/step - loss: 0.0011 - val_loss: 2.9175e-04\n",
      "Epoch 7/20\n",
      "200/200 [==============================] - 7s 36ms/step - loss: 0.0010 - val_loss: 3.3170e-04\n",
      "Epoch 8/20\n",
      "200/200 [==============================] - 7s 36ms/step - loss: 0.0010 - val_loss: 3.7266e-04\n",
      "Epoch 9/20\n",
      "200/200 [==============================] - 7s 37ms/step - loss: 9.2297e-04 - val_loss: 3.7952e-04\n",
      "Epoch 10/20\n",
      "200/200 [==============================] - 8s 42ms/step - loss: 9.3076e-04 - val_loss: 7.0877e-04\n",
      "Epoch 11/20\n",
      "200/200 [==============================] - 8s 41ms/step - loss: 9.0104e-04 - val_loss: 2.8357e-04\n",
      "Epoch 12/20\n",
      "200/200 [==============================] - 8s 40ms/step - loss: 8.5961e-04 - val_loss: 2.9014e-04\n",
      "Epoch 13/20\n",
      "200/200 [==============================] - 8s 39ms/step - loss: 8.6661e-04 - val_loss: 6.1740e-05\n",
      "Epoch 14/20\n",
      "200/200 [==============================] - 8s 41ms/step - loss: 8.1008e-04 - val_loss: 1.1613e-04\n",
      "Epoch 15/20\n",
      "200/200 [==============================] - 8s 39ms/step - loss: 7.8306e-04 - val_loss: 1.4709e-04\n",
      "Epoch 16/20\n",
      "200/200 [==============================] - 8s 38ms/step - loss: 8.2131e-04 - val_loss: 1.8202e-04\n",
      "Epoch 17/20\n",
      "200/200 [==============================] - 7s 35ms/step - loss: 7.3078e-04 - val_loss: 2.3495e-04\n",
      "Epoch 18/20\n",
      "200/200 [==============================] - 7s 35ms/step - loss: 7.4152e-04 - val_loss: 1.0521e-04\n",
      "Epoch 19/20\n",
      "200/200 [==============================] - 8s 42ms/step - loss: 7.1326e-04 - val_loss: 2.3351e-04\n",
      "Epoch 20/20\n",
      "200/200 [==============================] - 6s 31ms/step - loss: 7.0572e-04 - val_loss: 9.7397e-05\n"
     ]
    },
    {
     "data": {
      "text/plain": [
       "<keras.callbacks.History at 0x177b634c208>"
      ]
     },
     "execution_count": 51,
     "metadata": {},
     "output_type": "execute_result"
    }
   ],
   "source": [
    "model.fit_generator(triangle_gen(64), steps_per_epoch=200, epochs=20, verbose=1,\n",
    "                   validation_data=triangle_gen(32), validation_steps=1)"
   ]
  },
  {
   "cell_type": "code",
   "execution_count": 52,
   "metadata": {},
   "outputs": [
    {
     "name": "stdout",
     "output_type": "stream",
     "text": [
      "[[[0.85875642]\n",
      "  [0.9224184 ]\n",
      "  [0.98608037]\n",
      "  [0.95025765]\n",
      "  [0.88659567]]]\n",
      "[[0.8261843]]\n"
     ]
    }
   ],
   "source": [
    "itr = triangle_gen(1)\n",
    "s=next(itr)[0]\n",
    "s=s[:,:5,:]\n",
    "print(s)\n",
    "y = model.predict(s)\n",
    "print(y)"
   ]
  },
  {
   "cell_type": "code",
   "execution_count": 53,
   "metadata": {},
   "outputs": [
    {
     "name": "stdout",
     "output_type": "stream",
     "text": [
      "0\n",
      "1000\n"
     ]
    }
   ],
   "source": [
    "np.hstack((s,y.reshape(1,1,1)))\n",
    "arr = s\n",
    "for i in range(1100):\n",
    "    tmp = model.predict(arr[:,-5:,:])\n",
    "    arr = np.hstack((arr,tmp.reshape(1,1,1)))\n",
    "    if i%1000==0:\n",
    "        print(i)"
   ]
  },
  {
   "cell_type": "code",
   "execution_count": 54,
   "metadata": {},
   "outputs": [],
   "source": [
    "arr = arr.reshape((arr.shape[1],))"
   ]
  },
  {
   "cell_type": "code",
   "execution_count": 55,
   "metadata": {},
   "outputs": [
    {
     "data": {
      "image/png": "[encoded data removed]",
      "text/plain": [
       "<Figure size 432x288 with 1 Axes>"
      ]
     },
     "metadata": {
      "needs_background": "light"
     },
     "output_type": "display_data"
    }
   ],
   "source": [
    "plt.plot(arr[:1000])\n",
    "plt.show()"
   ]
  },
  {
   "cell_type": "code",
   "execution_count": 56,
   "metadata": {},
   "outputs": [
    {
     "data": {
      "image/png": "[encoded data removed]",
      "text/plain": [
       "<Figure size 432x288 with 1 Axes>"
      ]
     },
     "metadata": {
      "needs_background": "light"
     },
     "output_type": "display_data"
    }
   ],
   "source": [
    "a=np.arange(0,1000*1e-1, 1e-1)\n",
    "for i in range(len(a)):\n",
    "    a[i] = triangle(a[i])\n",
    "plt.plot(a)\n",
    "plt.show()"
   ]
  },
  {
   "cell_type": "code",
   "execution_count": null,
   "metadata": {},
   "outputs": [],
   "source": []
  }
 ],
 "metadata": {
  "kernelspec": {
   "display_name": "Python 3",
   "language": "python",
   "name": "python3"
  },
  "language_info": {
   "codemirror_mode": {
    "name": "ipython",
    "version": 3
   },
   "file_extension": ".py",
   "mimetype": "text/x-python",
   "name": "python",
   "nbconvert_exporter": "python",
   "pygments_lexer": "ipython3",
   "version": "3.6.8"
  }
 },
 "nbformat": 4,
 "nbformat_minor": 2
}

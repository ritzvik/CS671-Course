{
 "cells": [
  {
   "cell_type": "code",
   "execution_count": 1,
   "metadata": {},
   "outputs": [
    {
     "name": "stderr",
     "output_type": "stream",
     "text": [
      "Using TensorFlow backend.\n"
     ]
    }
   ],
   "source": [
    "import numpy as np\n",
    "import keras\n",
    "from keras.models import Sequential\n",
    "from keras.layers import Dense, TimeDistributed, Lambda\n",
    "from keras.layers import Dropout\n",
    "from keras.layers import SimpleRNN, LSTM\n",
    "import matplotlib.pyplot as plt\n",
    "import random"
   ]
  },
  {
   "cell_type": "code",
   "execution_count": 138,
   "metadata": {},
   "outputs": [
    {
     "name": "stdout",
     "output_type": "stream",
     "text": [
      "_________________________________________________________________\n",
      "Layer (type)                 Output Shape              Param #   \n",
      "=================================================================\n",
      "lstm_5 (LSTM)                (None, 256)               264192    \n",
      "_________________________________________________________________\n",
      "dropout_9 (Dropout)          (None, 256)               0         \n",
      "_________________________________________________________________\n",
      "dense_14 (Dense)             (None, 256)               65792     \n",
      "_________________________________________________________________\n",
      "dropout_10 (Dropout)         (None, 256)               0         \n",
      "_________________________________________________________________\n",
      "dense_15 (Dense)             (None, 64)                16448     \n",
      "_________________________________________________________________\n",
      "dense_16 (Dense)             (None, 32)                2080      \n",
      "_________________________________________________________________\n",
      "dense_17 (Dense)             (None, 1)                 33        \n",
      "_________________________________________________________________\n",
      "lambda_4 (Lambda)            (None, 1)                 0         \n",
      "=================================================================\n",
      "Total params: 348,545\n",
      "Trainable params: 348,545\n",
      "Non-trainable params: 0\n",
      "_________________________________________________________________\n"
     ]
    }
   ],
   "source": [
    "model = Sequential()\n",
    "\n",
    "model.add(LSTM(256, input_shape=(None, 1)))\n",
    "model.add(Dropout(0.1))\n",
    "model.add(Dense(256, activation='relu'))\n",
    "model.add(Dropout(0.1))\n",
    "model.add(Dense(64, activation='relu'))\n",
    "model.add(Dense(32, activation='relu'))\n",
    "model.add(Dense(1, activation='sigmoid'))\n",
    "model.add(Lambda(lambda x:(x*55000)))\n",
    "\n",
    "model.summary()"
   ]
  },
  {
   "cell_type": "code",
   "execution_count": 139,
   "metadata": {},
   "outputs": [],
   "source": [
    "def ap_gen(batchsize):\n",
    "    while True:\n",
    "        seqlen = np.random.randint(2,11)\n",
    "        x_train, y_train = list(), list()\n",
    "        for i in range(batchsize):\n",
    "            cd = float(np.random.randint(1,6))\n",
    "            a0 = float(np.random.randint(0,9990))*cd\n",
    "            nums = np.array([a0+j*cd for j in range(seqlen)])\n",
    "            x_train.append(nums.reshape(seqlen,1))\n",
    "            y_train.append([a0+seqlen*cd])\n",
    "        yield np.array(x_train), np.array(y_train)"
   ]
  },
  {
   "cell_type": "code",
   "execution_count": 140,
   "metadata": {},
   "outputs": [
    {
     "name": "stdout",
     "output_type": "stream",
     "text": [
      "Epoch 1/40\n",
      "200/200 [==============================] - 4s 21ms/step - loss: 113938894.2000 - val_loss: 91995192.0000\n",
      "Epoch 2/40\n",
      "200/200 [==============================] - 3s 14ms/step - loss: 61718414.3400 - val_loss: 28019408.0000\n",
      "Epoch 3/40\n",
      "200/200 [==============================] - 4s 21ms/step - loss: 43209086.4300 - val_loss: 24160822.0000\n",
      "Epoch 4/40\n",
      "200/200 [==============================] - 7s 34ms/step - loss: 43240620.8100 - val_loss: 61588128.0000\n",
      "Epoch 5/40\n",
      "200/200 [==============================] - 3s 14ms/step - loss: 29935558.9800 - val_loss: 23886504.0000\n",
      "Epoch 6/40\n",
      "200/200 [==============================] - 3s 14ms/step - loss: 27861882.3650 - val_loss: 12553150.0000\n",
      "Epoch 7/40\n",
      "200/200 [==============================] - 3s 14ms/step - loss: 32711901.1000 - val_loss: 39021064.0000\n",
      "Epoch 8/40\n",
      "200/200 [==============================] - 3s 15ms/step - loss: 28321823.9750 - val_loss: 11070430.0000\n",
      "Epoch 9/40\n",
      "200/200 [==============================] - 3s 16ms/step - loss: 28769743.3600 - val_loss: 8738018.0000\n",
      "Epoch 10/40\n",
      "200/200 [==============================] - 5s 27ms/step - loss: 24392068.9975 - val_loss: 9128754.0000\n",
      "Epoch 11/40\n",
      "200/200 [==============================] - 7s 36ms/step - loss: 26026242.0500 - val_loss: 11913246.0000\n",
      "Epoch 12/40\n",
      "200/200 [==============================] - 4s 20ms/step - loss: 32095771.0100 - val_loss: 18355092.0000\n",
      "Epoch 13/40\n",
      "200/200 [==============================] - 4s 19ms/step - loss: 40388976.2300 - val_loss: 18775032.0000\n",
      "Epoch 14/40\n",
      "200/200 [==============================] - 3s 15ms/step - loss: 49445183.3700 - val_loss: 20670116.0000\n",
      "Epoch 15/40\n",
      "200/200 [==============================] - 3s 15ms/step - loss: 43247053.0200 - val_loss: 10608482.0000\n",
      "Epoch 16/40\n",
      "200/200 [==============================] - 3s 14ms/step - loss: 29981593.6150 - val_loss: 9732694.0000\n",
      "Epoch 17/40\n",
      "200/200 [==============================] - 3s 16ms/step - loss: 30990386.8300 - val_loss: 38004368.0000\n",
      "Epoch 18/40\n",
      "200/200 [==============================] - 3s 15ms/step - loss: 35069614.3600 - val_loss: 15535311.0000\n",
      "Epoch 19/40\n",
      "200/200 [==============================] - 7s 35ms/step - loss: 41738275.1900 - val_loss: 7181977.0000\n",
      "Epoch 20/40\n",
      "200/200 [==============================] - 5s 26ms/step - loss: 35225410.4300 - val_loss: 18667334.0000\n",
      "Epoch 21/40\n",
      "200/200 [==============================] - 4s 21ms/step - loss: 39782942.2200 - val_loss: 22020660.0000\n",
      "Epoch 22/40\n",
      "200/200 [==============================] - 3s 16ms/step - loss: 31478675.5400 - val_loss: 33707784.0000\n",
      "Epoch 23/40\n",
      "200/200 [==============================] - 3s 16ms/step - loss: 36864817.4300 - val_loss: 23570024.0000\n",
      "Epoch 24/40\n",
      "200/200 [==============================] - 3s 15ms/step - loss: 39393644.7250 - val_loss: 19265092.0000\n",
      "Epoch 25/40\n",
      "200/200 [==============================] - 3s 16ms/step - loss: 42689958.5500 - val_loss: 46653372.0000\n",
      "Epoch 26/40\n",
      "200/200 [==============================] - 3s 15ms/step - loss: 38495668.4100 - val_loss: 21877088.0000\n",
      "Epoch 27/40\n",
      "200/200 [==============================] - 3s 16ms/step - loss: 30443323.6800 - val_loss: 6835750.0000\n",
      "Epoch 28/40\n",
      "200/200 [==============================] - 3s 16ms/step - loss: 30434182.2600 - val_loss: 25021168.0000\n",
      "Epoch 29/40\n",
      "200/200 [==============================] - 4s 19ms/step - loss: 22882051.8800 - val_loss: 23539692.0000\n",
      "Epoch 30/40\n",
      "200/200 [==============================] - 3s 16ms/step - loss: 40348373.3900 - val_loss: 43219556.0000\n",
      "Epoch 31/40\n",
      "200/200 [==============================] - 3s 16ms/step - loss: 73882644.4100 - val_loss: 70956016.0000\n",
      "Epoch 32/40\n",
      "200/200 [==============================] - 3s 16ms/step - loss: 69924618.8200 - val_loss: 35679256.0000\n",
      "Epoch 33/40\n",
      "200/200 [==============================] - 3s 16ms/step - loss: 64660082.1400 - val_loss: 53130864.0000\n",
      "Epoch 34/40\n",
      "200/200 [==============================] - 3s 16ms/step - loss: 46485157.7150 - val_loss: 25407948.0000\n",
      "Epoch 35/40\n",
      "200/200 [==============================] - 3s 17ms/step - loss: 38664045.2400 - val_loss: 34359244.0000\n",
      "Epoch 36/40\n",
      "200/200 [==============================] - 3s 16ms/step - loss: 29659451.4100 - val_loss: 37072628.0000\n",
      "Epoch 37/40\n",
      "200/200 [==============================] - 3s 17ms/step - loss: 36216433.4850 - val_loss: 14996423.0000\n",
      "Epoch 38/40\n",
      "200/200 [==============================] - 3s 17ms/step - loss: 29964813.8850 - val_loss: 20805164.0000\n",
      "Epoch 39/40\n",
      "200/200 [==============================] - 3s 16ms/step - loss: 32843257.7400 - val_loss: 21018980.0000\n",
      "Epoch 40/40\n",
      "200/200 [==============================] - 3s 17ms/step - loss: 48817491.8500 - val_loss: 25990446.0000\n"
     ]
    },
    {
     "data": {
      "text/plain": [
       "<keras.callbacks.History at 0x22d91e0e518>"
      ]
     },
     "execution_count": 140,
     "metadata": {},
     "output_type": "execute_result"
    }
   ],
   "source": [
    "model.compile(loss='mean_squared_error', optimizer='adam')\n",
    "model.fit_generator(ap_gen(128), steps_per_epoch=200, epochs=40, verbose=1,\n",
    "                   validation_data=ap_gen(64), validation_steps=1)"
   ]
  },
  {
   "cell_type": "code",
   "execution_count": 141,
   "metadata": {},
   "outputs": [
    {
     "name": "stdout",
     "output_type": "stream",
     "text": [
      "[[[105.]\n",
      "  [110.]\n",
      "  [115.]\n",
      "  [120.]\n",
      "  [125.]]]\n",
      "[[829.4603]]\n"
     ]
    }
   ],
   "source": [
    "itr = ap_gen(1)\n",
    "s=next(itr)[0]\n",
    "s=s[:,:5,:]\n",
    "print(s)\n",
    "y = model.predict(s)\n",
    "print(y)"
   ]
  }
 ],
 "metadata": {
  "kernelspec": {
   "display_name": "Python 3",
   "language": "python",
   "name": "python3"
  },
  "language_info": {
   "codemirror_mode": {
    "name": "ipython",
    "version": 3
   },
   "file_extension": ".py",
   "mimetype": "text/x-python",
   "name": "python",
   "nbconvert_exporter": "python",
   "pygments_lexer": "ipython3",
   "version": "3.6.8"
  }
 },
 "nbformat": 4,
 "nbformat_minor": 2
}
